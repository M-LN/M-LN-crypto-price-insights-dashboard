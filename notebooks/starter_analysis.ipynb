{
 "cells": [
  {
   "cell_type": "markdown",
   "id": "6b8664fa",
   "metadata": {},
   "source": [
    "# Crypto Price Insights – Exploratory Notebook\n",
    "\n",
    "This notebook walks through an API-driven crypto analytics workflow that powers the \"Crypto Price Insights Dashboard\" portfolio project. Follow the sections to fetch data, engineer features, surface insights, and prototype automation-ready artifacts."
   ]
  },
  {
   "cell_type": "markdown",
   "id": "f19f62a8",
   "metadata": {},
   "source": [
    "## 1. Set Up Environment and API Parameters\n",
    "\n",
    "We'll configure the Python environment, declare reusable helpers, and define the API endpoints used throughout the workflow."
   ]
  }
 ],
 "metadata": {
  "language_info": {
   "name": "python"
  }
 },
 "nbformat": 4,
 "nbformat_minor": 5
}
